{
 "cells": [
  {
   "cell_type": "markdown",
   "metadata": {},
   "source": [
    "<h1>Demonstrating Benford's Law</h1>"
   ]
  },
  {
   "cell_type": "markdown",
   "metadata": {},
   "source": [
    "<p>\n",
    "In this notebook, We will quickly go through an exploratory exercise to demonstrate Benford's Law using Yahoo Finance data.\n",
    "</p>\n",
    "\n",
    "<p>\n",
    "Benford's Law is an intriguing phenomenon that I heard of in the past and always wanted to check it out for myself. This mathematical law has many applications, probably most well known to be used in Fraud Detection.\n",
    "</p>\n"
   ]
  },
  {
   "cell_type": "markdown",
   "metadata": {},
   "source": [
    "<h4>Quick explanation</h4>"
   ]
  },
  {
   "cell_type": "markdown",
   "metadata": {},
   "source": [
    "<p>\n",
    "Imagine you have a large list of numbers, whether it is your own personal bank transactions, stock prices, bills, street addresses, mathematical constants, population counts, etc... you name it. Now, consider the leading digits for those numbers, which will be one of these digits: 1, 2, 3, 4, 5, 6, 7, 8, or 9. One might imagine the distribution of these leading digits are equal, with ~11.11% chance for each digit. Turns out, this assumption is incorrect, and we will use real data to see for ourselves!\n",
    "</p>\n",
    "\n",
    "<p>Essentially, this is a mathematical law that describes frequency distribution of leading digits in many real-life numeric data. You can read more about <a href=\"https://en.wikipedia.org/wiki/Benford%27s_law\">Benford's Law</a> from its Wikipedia article</p>\n",
    "\n",
    "<p>\n",
    "I was reminded of Benford's Law after listening to a <a href=\"https://www.udacity.com/podcasts/linear-digressions\">Linear Digressions</a> <a href=\"http://www.stitcher.com/podcast/linear-digressions/e/benfords-law-41309967\">podcast</a>. (I love this podcast by the way, I highly recommend it! Especially if you are interested in Data Science)\n",
    "</p>"
   ]
  },
  {
   "cell_type": "markdown",
   "metadata": {},
   "source": [
    "<h4>In this exercise...</h4>"
   ]
  },
  {
   "cell_type": "markdown",
   "metadata": {},
   "source": [
    "<p>We will download a large set of numeric data, using Yahoo finance data. Then tally up the leading digits to get a distribution, and plot the frequencies.</p>\n",
    "\n",
    "<p>The tools we will utilize include bs4 for webscraping and pandas easy data manipulation. I found a great post from <a href=\"http://www.thealgoengineer.com/\">\"The Algo Engineer\"</a> on downloading S&P 500 tickers and quote data in this post: <a href=\"http://www.thealgoengineer.com/2014/download_sp500_data/\">Downloading S&P 500 tickers and data using Python</a>, which I adapted to suit our needs. Many thanks to Dr. Aidan O'Mahony for providing a quick tutorial on obtaining finance ticker data.</p>\n",
    "\n",
    "<p> Let's get right to it!</p>"
   ]
  },
  {
   "cell_type": "markdown",
   "metadata": {},
   "source": [
    "<h3>python imports</h3>"
   ]
  },
  {
   "cell_type": "code",
   "execution_count": 1,
   "metadata": {
    "collapsed": true
   },
   "outputs": [],
   "source": [
    "import urllib2\n",
    "import pytz\n",
    "import pandas as pd\n",
    "from pandas_datareader import data as pd_data\n",
    "from bs4 import BeautifulSoup\n",
    "from datetime import datetime"
   ]
  },
  {
   "cell_type": "markdown",
   "metadata": {},
   "source": [
    "<h5>Obtaining numeric data</h5>"
   ]
  },
  {
   "cell_type": "code",
   "execution_count": 2,
   "metadata": {
    "collapsed": true
   },
   "outputs": [],
   "source": [
    "START = datetime(1900, 1, 1, 0, 0, 0, 0, pytz.utc)\n",
    "END = datetime.today().utcnow()"
   ]
  },
  {
   "cell_type": "code",
   "execution_count": 3,
   "metadata": {
    "collapsed": true
   },
   "outputs": [],
   "source": [
    "def get_SP500_tickers(site):\n",
    "    hdr = {'User-Agent': 'Mozilla/5.0'}\n",
    "    req = urllib2.Request(site, headers=hdr)\n",
    "    page = urllib2.urlopen(req)\n",
    "    soup = BeautifulSoup(page, 'lxml')\n",
    "\n",
    "    table = soup.find('table', {'class': 'wikitable sortable'})\n",
    "    tickers = []\n",
    "    for row in table.findAll('tr'):\n",
    "        col = row.findAll('td')\n",
    "        if len(col) > 0:\n",
    "            ticker = str(col[0].string.strip())\n",
    "            tickers.append(ticker)\n",
    "    return tickers"
   ]
  },
  {
   "cell_type": "code",
   "execution_count": 4,
   "metadata": {
    "collapsed": false
   },
   "outputs": [],
   "source": [
    "tickers = get_SP500_tickers(\"http://en.wikipedia.org/wiki/List_of_S%26P_500_companies\")"
   ]
  },
  {
   "cell_type": "markdown",
   "metadata": {},
   "source": [
    "We got a list of tickers in a neat little list. Cool!"
   ]
  },
  {
   "cell_type": "code",
   "execution_count": 5,
   "metadata": {
    "collapsed": false
   },
   "outputs": [
    {
     "data": {
      "text/plain": [
       "['MMM', 'ABT', 'ABBV', 'ACN', 'ACE']"
      ]
     },
     "execution_count": 5,
     "metadata": {},
     "output_type": "execute_result"
    }
   ],
   "source": [
    "tickers[:5]"
   ]
  },
  {
   "cell_type": "markdown",
   "metadata": {},
   "source": [
    "Now let's get ticker data using DataReader (this module was originally part of pandas.io.data, but now separate modules as part of pandas_datareader. <b>WARNING!</b> The step below will take awhile! we are downloading lots of financial data!"
   ]
  },
  {
   "cell_type": "code",
   "execution_count": 6,
   "metadata": {
    "collapsed": false
   },
   "outputs": [],
   "source": [
    "ticker_data = pd_data.DataReader(tickers, 'yahoo', START, END)"
   ]
  },
  {
   "cell_type": "code",
   "execution_count": null,
   "metadata": {
    "collapsed": true
   },
   "outputs": [],
   "source": []
  },
  {
   "cell_type": "markdown",
   "metadata": {},
   "source": [
    "Pandas DataReader returns a Pandas panel (3d dataframe)."
   ]
  },
  {
   "cell_type": "code",
   "execution_count": 7,
   "metadata": {
    "collapsed": false
   },
   "outputs": [
    {
     "data": {
      "text/plain": [
       "<class 'pandas.core.panel.Panel'>\n",
       "Dimensions: 5 (items) x 13569 (major_axis) x 505 (minor_axis)\n",
       "Items axis: Open to Volume\n",
       "Major_axis axis: 1962-01-02 00:00:00 to 2015-11-20 00:00:00\n",
       "Minor_axis axis: A to ZTS"
      ]
     },
     "execution_count": 7,
     "metadata": {},
     "output_type": "execute_result"
    }
   ],
   "source": [
    "ticker_data[:5]"
   ]
  },
  {
   "cell_type": "code",
   "execution_count": 8,
   "metadata": {
    "collapsed": false
   },
   "outputs": [
    {
     "data": {
      "text/plain": [
       "Index([u'Open', u'High', u'Low', u'Close', u'Volume', u'Adj Close'], dtype='object')"
      ]
     },
     "execution_count": 8,
     "metadata": {},
     "output_type": "execute_result"
    }
   ],
   "source": [
    "ticker_data.items"
   ]
  },
  {
   "cell_type": "code",
   "execution_count": 9,
   "metadata": {
    "collapsed": false
   },
   "outputs": [
    {
     "data": {
      "text/plain": [
       "DatetimeIndex(['1962-01-02', '1962-01-03', '1962-01-04', '1962-01-05',\n",
       "               '1962-01-08', '1962-01-09', '1962-01-10', '1962-01-11',\n",
       "               '1962-01-12', '1962-01-15', \n",
       "               ...\n",
       "               '2015-11-09', '2015-11-10', '2015-11-11', '2015-11-12',\n",
       "               '2015-11-13', '2015-11-16', '2015-11-17', '2015-11-18',\n",
       "               '2015-11-19', '2015-11-20'],\n",
       "              dtype='datetime64[ns]', name=u'Date', length=13569, freq=None, tz=None)"
      ]
     },
     "execution_count": 9,
     "metadata": {},
     "output_type": "execute_result"
    }
   ],
   "source": [
    "ticker_data.major_axis"
   ]
  },
  {
   "cell_type": "code",
   "execution_count": 10,
   "metadata": {
    "collapsed": false
   },
   "outputs": [
    {
     "data": {
      "text/plain": [
       "Index([u'A', u'AA', u'AAL', u'AAP', u'AAPL', u'ABBV', u'ABC', u'ABT', u'ACE',\n",
       "       u'ACN', \n",
       "       ...\n",
       "       u'XLNX', u'XOM', u'XRAY', u'XRX', u'XYL', u'YHOO', u'YUM', u'ZBH',\n",
       "       u'ZION', u'ZTS'],\n",
       "      dtype='object', length=505)"
      ]
     },
     "execution_count": 10,
     "metadata": {},
     "output_type": "execute_result"
    }
   ],
   "source": [
    "ticker_data.minor_axis"
   ]
  },
  {
   "cell_type": "code",
   "execution_count": null,
   "metadata": {
    "collapsed": true
   },
   "outputs": [],
   "source": []
  },
  {
   "cell_type": "markdown",
   "metadata": {},
   "source": [
    "<b>Let's check out Yahoo's volume data:</b>"
   ]
  },
  {
   "cell_type": "code",
   "execution_count": 28,
   "metadata": {
    "collapsed": true
   },
   "outputs": [],
   "source": [
    "df = ticker_data['Volume']"
   ]
  },
  {
   "cell_type": "code",
   "execution_count": 12,
   "metadata": {
    "collapsed": false
   },
   "outputs": [
    {
     "data": {
      "text/html": [
       "<div>\n",
       "<table border=\"1\" class=\"dataframe\">\n",
       "  <thead>\n",
       "    <tr style=\"text-align: right;\">\n",
       "      <th></th>\n",
       "      <th>A</th>\n",
       "      <th>AA</th>\n",
       "      <th>AAL</th>\n",
       "      <th>AAP</th>\n",
       "      <th>AAPL</th>\n",
       "      <th>ABBV</th>\n",
       "      <th>ABC</th>\n",
       "      <th>ABT</th>\n",
       "      <th>ACE</th>\n",
       "      <th>ACN</th>\n",
       "      <th>...</th>\n",
       "      <th>XLNX</th>\n",
       "      <th>XOM</th>\n",
       "      <th>XRAY</th>\n",
       "      <th>XRX</th>\n",
       "      <th>XYL</th>\n",
       "      <th>YHOO</th>\n",
       "      <th>YUM</th>\n",
       "      <th>ZBH</th>\n",
       "      <th>ZION</th>\n",
       "      <th>ZTS</th>\n",
       "    </tr>\n",
       "    <tr>\n",
       "      <th>Date</th>\n",
       "      <th></th>\n",
       "      <th></th>\n",
       "      <th></th>\n",
       "      <th></th>\n",
       "      <th></th>\n",
       "      <th></th>\n",
       "      <th></th>\n",
       "      <th></th>\n",
       "      <th></th>\n",
       "      <th></th>\n",
       "      <th></th>\n",
       "      <th></th>\n",
       "      <th></th>\n",
       "      <th></th>\n",
       "      <th></th>\n",
       "      <th></th>\n",
       "      <th></th>\n",
       "      <th></th>\n",
       "      <th></th>\n",
       "      <th></th>\n",
       "      <th></th>\n",
       "    </tr>\n",
       "  </thead>\n",
       "  <tbody>\n",
       "    <tr>\n",
       "      <th>2015-11-16</th>\n",
       "      <td>2478200</td>\n",
       "      <td>33638800</td>\n",
       "      <td>10139800</td>\n",
       "      <td>1488300</td>\n",
       "      <td>37651000</td>\n",
       "      <td>6908500</td>\n",
       "      <td>1829000</td>\n",
       "      <td>6348300</td>\n",
       "      <td>1744400</td>\n",
       "      <td>4141800</td>\n",
       "      <td>...</td>\n",
       "      <td>1739000</td>\n",
       "      <td>14005500</td>\n",
       "      <td>705400</td>\n",
       "      <td>14292800</td>\n",
       "      <td>1467900</td>\n",
       "      <td>10977700</td>\n",
       "      <td>3431100</td>\n",
       "      <td>777800</td>\n",
       "      <td>2505600</td>\n",
       "      <td>3521500</td>\n",
       "    </tr>\n",
       "    <tr>\n",
       "      <th>2015-11-17</th>\n",
       "      <td>7679500</td>\n",
       "      <td>34652200</td>\n",
       "      <td>9549300</td>\n",
       "      <td>1165300</td>\n",
       "      <td>27254000</td>\n",
       "      <td>8167100</td>\n",
       "      <td>2312500</td>\n",
       "      <td>5752100</td>\n",
       "      <td>2208300</td>\n",
       "      <td>2898700</td>\n",
       "      <td>...</td>\n",
       "      <td>2469900</td>\n",
       "      <td>10000800</td>\n",
       "      <td>818700</td>\n",
       "      <td>11703700</td>\n",
       "      <td>1600500</td>\n",
       "      <td>10231700</td>\n",
       "      <td>5051600</td>\n",
       "      <td>698700</td>\n",
       "      <td>1988400</td>\n",
       "      <td>3625500</td>\n",
       "    </tr>\n",
       "    <tr>\n",
       "      <th>2015-11-18</th>\n",
       "      <td>6582000</td>\n",
       "      <td>23677500</td>\n",
       "      <td>11042900</td>\n",
       "      <td>780000</td>\n",
       "      <td>46163400</td>\n",
       "      <td>5454100</td>\n",
       "      <td>1985000</td>\n",
       "      <td>5684000</td>\n",
       "      <td>1149000</td>\n",
       "      <td>2436900</td>\n",
       "      <td>...</td>\n",
       "      <td>2829300</td>\n",
       "      <td>10808000</td>\n",
       "      <td>670600</td>\n",
       "      <td>13194400</td>\n",
       "      <td>1771800</td>\n",
       "      <td>10759400</td>\n",
       "      <td>4708000</td>\n",
       "      <td>1233800</td>\n",
       "      <td>2873800</td>\n",
       "      <td>3329900</td>\n",
       "    </tr>\n",
       "    <tr>\n",
       "      <th>2015-11-19</th>\n",
       "      <td>7274500</td>\n",
       "      <td>32449500</td>\n",
       "      <td>6535200</td>\n",
       "      <td>679700</td>\n",
       "      <td>42908200</td>\n",
       "      <td>5342500</td>\n",
       "      <td>2044100</td>\n",
       "      <td>6790100</td>\n",
       "      <td>1547100</td>\n",
       "      <td>2526500</td>\n",
       "      <td>...</td>\n",
       "      <td>1859500</td>\n",
       "      <td>9432300</td>\n",
       "      <td>642100</td>\n",
       "      <td>6616000</td>\n",
       "      <td>1137400</td>\n",
       "      <td>13977800</td>\n",
       "      <td>3171900</td>\n",
       "      <td>1051100</td>\n",
       "      <td>1484300</td>\n",
       "      <td>2918500</td>\n",
       "    </tr>\n",
       "    <tr>\n",
       "      <th>2015-11-20</th>\n",
       "      <td>5447900</td>\n",
       "      <td>24898400</td>\n",
       "      <td>5498300</td>\n",
       "      <td>724400</td>\n",
       "      <td>34103500</td>\n",
       "      <td>7280900</td>\n",
       "      <td>2298500</td>\n",
       "      <td>6684100</td>\n",
       "      <td>2154300</td>\n",
       "      <td>3373900</td>\n",
       "      <td>...</td>\n",
       "      <td>1271600</td>\n",
       "      <td>10099200</td>\n",
       "      <td>880900</td>\n",
       "      <td>10214000</td>\n",
       "      <td>1300900</td>\n",
       "      <td>12482600</td>\n",
       "      <td>4257300</td>\n",
       "      <td>1642900</td>\n",
       "      <td>2092400</td>\n",
       "      <td>3661500</td>\n",
       "    </tr>\n",
       "  </tbody>\n",
       "</table>\n",
       "<p>5 rows × 505 columns</p>\n",
       "</div>"
      ],
      "text/plain": [
       "                  A        AA       AAL      AAP      AAPL     ABBV      ABC  \\\n",
       "Date                                                                           \n",
       "2015-11-16  2478200  33638800  10139800  1488300  37651000  6908500  1829000   \n",
       "2015-11-17  7679500  34652200   9549300  1165300  27254000  8167100  2312500   \n",
       "2015-11-18  6582000  23677500  11042900   780000  46163400  5454100  1985000   \n",
       "2015-11-19  7274500  32449500   6535200   679700  42908200  5342500  2044100   \n",
       "2015-11-20  5447900  24898400   5498300   724400  34103500  7280900  2298500   \n",
       "\n",
       "                ABT      ACE      ACN   ...        XLNX       XOM    XRAY  \\\n",
       "Date                                    ...                                 \n",
       "2015-11-16  6348300  1744400  4141800   ...     1739000  14005500  705400   \n",
       "2015-11-17  5752100  2208300  2898700   ...     2469900  10000800  818700   \n",
       "2015-11-18  5684000  1149000  2436900   ...     2829300  10808000  670600   \n",
       "2015-11-19  6790100  1547100  2526500   ...     1859500   9432300  642100   \n",
       "2015-11-20  6684100  2154300  3373900   ...     1271600  10099200  880900   \n",
       "\n",
       "                 XRX      XYL      YHOO      YUM      ZBH     ZION      ZTS  \n",
       "Date                                                                         \n",
       "2015-11-16  14292800  1467900  10977700  3431100   777800  2505600  3521500  \n",
       "2015-11-17  11703700  1600500  10231700  5051600   698700  1988400  3625500  \n",
       "2015-11-18  13194400  1771800  10759400  4708000  1233800  2873800  3329900  \n",
       "2015-11-19   6616000  1137400  13977800  3171900  1051100  1484300  2918500  \n",
       "2015-11-20  10214000  1300900  12482600  4257300  1642900  2092400  3661500  \n",
       "\n",
       "[5 rows x 505 columns]"
      ]
     },
     "execution_count": 12,
     "metadata": {},
     "output_type": "execute_result"
    }
   ],
   "source": [
    "df.tail()"
   ]
  },
  {
   "cell_type": "code",
   "execution_count": null,
   "metadata": {
    "collapsed": true
   },
   "outputs": [],
   "source": []
  },
  {
   "cell_type": "markdown",
   "metadata": {},
   "source": [
    "In this DataFrame, we have <b>dates</b> as the index and <b>tickers</b> as the columns. Let's write a quick counting function to aggregate counts:\n",
    "<li> converting numbers into string </li>\n",
    "<li> getting leading digit</li>\n",
    "<li> tallying up the leading digits </li>"
   ]
  },
  {
   "cell_type": "code",
   "execution_count": 13,
   "metadata": {
    "collapsed": true
   },
   "outputs": [],
   "source": [
    "def count_lead_digits( lst ):\n",
    "    d = {}\n",
    "    for number in lst:\n",
    "        digit = str(number)[0]\n",
    "        if digit != '0':  # we are ignoring decimals, such as '0.95'\n",
    "            if digit not in d:\n",
    "                d[digit] = 0\n",
    "            d[digit] += 1\n",
    "    return d"
   ]
  },
  {
   "cell_type": "code",
   "execution_count": 14,
   "metadata": {
    "collapsed": false
   },
   "outputs": [],
   "source": [
    "lead_digit_counts = { str(n): 0 for n in range(1,10)}\n",
    "\n",
    "for t in df.columns:\n",
    "    prices = df[t].dropna()\n",
    "    d = count_lead_digits( prices )\n",
    "    for digit, count in d.items():\n",
    "        lead_digit_counts[digit] += count"
   ]
  },
  {
   "cell_type": "code",
   "execution_count": 15,
   "metadata": {
    "collapsed": false
   },
   "outputs": [
    {
     "data": {
      "text/plain": [
       "{'1': 961889,\n",
       " '2': 571952,\n",
       " '3': 409098,\n",
       " '4': 315469,\n",
       " '5': 255722,\n",
       " '6': 214944,\n",
       " '7': 185206,\n",
       " '8': 162867,\n",
       " '9': 145234}"
      ]
     },
     "execution_count": 15,
     "metadata": {},
     "output_type": "execute_result"
    }
   ],
   "source": [
    "lead_digit_counts"
   ]
  },
  {
   "cell_type": "code",
   "execution_count": 19,
   "metadata": {
    "collapsed": false
   },
   "outputs": [],
   "source": [
    "df_counts = pd.DataFrame.from_dict(lead_digit_counts, orient='index')\n",
    "df_counts.columns = ['frequency']\n",
    "df_counts.sort_index(inplace=True)"
   ]
  },
  {
   "cell_type": "code",
   "execution_count": 21,
   "metadata": {
    "collapsed": false
   },
   "outputs": [
    {
     "data": {
      "text/html": [
       "<div>\n",
       "<table border=\"1\" class=\"dataframe\">\n",
       "  <thead>\n",
       "    <tr style=\"text-align: right;\">\n",
       "      <th></th>\n",
       "      <th>frequency</th>\n",
       "    </tr>\n",
       "  </thead>\n",
       "  <tbody>\n",
       "    <tr>\n",
       "      <th>1</th>\n",
       "      <td>961889</td>\n",
       "    </tr>\n",
       "    <tr>\n",
       "      <th>2</th>\n",
       "      <td>571952</td>\n",
       "    </tr>\n",
       "    <tr>\n",
       "      <th>3</th>\n",
       "      <td>409098</td>\n",
       "    </tr>\n",
       "    <tr>\n",
       "      <th>4</th>\n",
       "      <td>315469</td>\n",
       "    </tr>\n",
       "    <tr>\n",
       "      <th>5</th>\n",
       "      <td>255722</td>\n",
       "    </tr>\n",
       "    <tr>\n",
       "      <th>6</th>\n",
       "      <td>214944</td>\n",
       "    </tr>\n",
       "    <tr>\n",
       "      <th>7</th>\n",
       "      <td>185206</td>\n",
       "    </tr>\n",
       "    <tr>\n",
       "      <th>8</th>\n",
       "      <td>162867</td>\n",
       "    </tr>\n",
       "    <tr>\n",
       "      <th>9</th>\n",
       "      <td>145234</td>\n",
       "    </tr>\n",
       "  </tbody>\n",
       "</table>\n",
       "</div>"
      ],
      "text/plain": [
       "   frequency\n",
       "1     961889\n",
       "2     571952\n",
       "3     409098\n",
       "4     315469\n",
       "5     255722\n",
       "6     214944\n",
       "7     185206\n",
       "8     162867\n",
       "9     145234"
      ]
     },
     "execution_count": 21,
     "metadata": {},
     "output_type": "execute_result"
    }
   ],
   "source": [
    "df_counts"
   ]
  },
  {
   "cell_type": "code",
   "execution_count": null,
   "metadata": {
    "collapsed": true
   },
   "outputs": [],
   "source": []
  },
  {
   "cell_type": "markdown",
   "metadata": {},
   "source": [
    "<h3>plotting the data</h3>"
   ]
  },
  {
   "cell_type": "code",
   "execution_count": 22,
   "metadata": {
    "collapsed": true
   },
   "outputs": [],
   "source": [
    "%matplotlib inline\n",
    "import seaborn as sns"
   ]
  },
  {
   "cell_type": "code",
   "execution_count": 23,
   "metadata": {
    "collapsed": false
   },
   "outputs": [
    {
     "data": {
      "text/plain": [
       "<matplotlib.axes._subplots.AxesSubplot at 0x1150f2e50>"
      ]
     },
     "execution_count": 23,
     "metadata": {},
     "output_type": "execute_result"
    },
    {
     "data": {
      "image/png": "[encoded data removed]",
      "text/plain": [
       "<matplotlib.figure.Figure at 0x10ec4d290>"
      ]
     },
     "metadata": {},
     "output_type": "display_data"
    }
   ],
   "source": [
    "df_counts.plot(kind='bar', figsize=(8,5))"
   ]
  },
  {
   "cell_type": "markdown",
   "metadata": {
    "collapsed": true
   },
   "source": [
    "Pretty awesome! The distribution is almost picture perfect"
   ]
  },
  {
   "cell_type": "code",
   "execution_count": 25,
   "metadata": {
    "collapsed": false
   },
   "outputs": [],
   "source": [
    "total_count = df_counts['frequency'].sum()\n",
    "df_counts['percentage'] = df_counts['frequency'] / total_count"
   ]
  },
  {
   "cell_type": "code",
   "execution_count": 26,
   "metadata": {
    "collapsed": false
   },
   "outputs": [
    {
     "data": {
      "text/html": [
       "<div>\n",
       "<table border=\"1\" class=\"dataframe\">\n",
       "  <thead>\n",
       "    <tr style=\"text-align: right;\">\n",
       "      <th></th>\n",
       "      <th>frequency</th>\n",
       "      <th>percentage</th>\n",
       "    </tr>\n",
       "  </thead>\n",
       "  <tbody>\n",
       "    <tr>\n",
       "      <th>1</th>\n",
       "      <td>961889</td>\n",
       "      <td>0.298503</td>\n",
       "    </tr>\n",
       "    <tr>\n",
       "      <th>2</th>\n",
       "      <td>571952</td>\n",
       "      <td>0.177494</td>\n",
       "    </tr>\n",
       "    <tr>\n",
       "      <th>3</th>\n",
       "      <td>409098</td>\n",
       "      <td>0.126955</td>\n",
       "    </tr>\n",
       "    <tr>\n",
       "      <th>4</th>\n",
       "      <td>315469</td>\n",
       "      <td>0.097899</td>\n",
       "    </tr>\n",
       "    <tr>\n",
       "      <th>5</th>\n",
       "      <td>255722</td>\n",
       "      <td>0.079358</td>\n",
       "    </tr>\n",
       "    <tr>\n",
       "      <th>6</th>\n",
       "      <td>214944</td>\n",
       "      <td>0.066703</td>\n",
       "    </tr>\n",
       "    <tr>\n",
       "      <th>7</th>\n",
       "      <td>185206</td>\n",
       "      <td>0.057475</td>\n",
       "    </tr>\n",
       "    <tr>\n",
       "      <th>8</th>\n",
       "      <td>162867</td>\n",
       "      <td>0.050542</td>\n",
       "    </tr>\n",
       "    <tr>\n",
       "      <th>9</th>\n",
       "      <td>145234</td>\n",
       "      <td>0.045070</td>\n",
       "    </tr>\n",
       "  </tbody>\n",
       "</table>\n",
       "</div>"
      ],
      "text/plain": [
       "   frequency  percentage\n",
       "1     961889    0.298503\n",
       "2     571952    0.177494\n",
       "3     409098    0.126955\n",
       "4     315469    0.097899\n",
       "5     255722    0.079358\n",
       "6     214944    0.066703\n",
       "7     185206    0.057475\n",
       "8     162867    0.050542\n",
       "9     145234    0.045070"
      ]
     },
     "execution_count": 26,
     "metadata": {},
     "output_type": "execute_result"
    }
   ],
   "source": [
    "df_counts"
   ]
  },
  {
   "cell_type": "markdown",
   "metadata": {},
   "source": [
    "Benford's Law, according to the Wikipedia page, says distribution is as follows:"
   ]
  },
  {
   "cell_type": "markdown",
   "metadata": {},
   "source": [
    "<table align=\"left\">\n",
    "    <thead>\n",
    "        <td>digit</td>\n",
    "        <td>percentage</td>\n",
    "    </thead>\n",
    "    <tbody>\n",
    "        <tr>\n",
    "            <td>1</td>\n",
    "            <td>30.1%</td>\n",
    "        </tr>\n",
    "        <tr>\n",
    "            <td>2</td>\n",
    "            <td>17.6%</td>\n",
    "        </tr>\n",
    "        <tr>\n",
    "            <td>3</td>\n",
    "            <td>12.5%</td>\n",
    "        </tr>\n",
    "        <tr>\n",
    "            <td>4</td>\n",
    "            <td>9.7%</td>\n",
    "        </tr>\n",
    "        <tr>\n",
    "            <td>5</td>\n",
    "            <td>7.9%</td>\n",
    "        </tr>\n",
    "        <tr>\n",
    "            <td>6</td>\n",
    "            <td>6.7%</td>\n",
    "        </tr>\n",
    "        <tr>\n",
    "            <td>7</td>\n",
    "            <td>5.8%</td>\n",
    "        </tr>\n",
    "        <tr>\n",
    "            <td>8</td>\n",
    "            <td>5.1%</td>\n",
    "        </tr>\n",
    "        <tr>\n",
    "            <td>9</td>\n",
    "            <td>4.6%</td>\n",
    "        </tr>\n",
    "    </tbody>\n",
    "</table>"
   ]
  },
  {
   "cell_type": "markdown",
   "metadata": {},
   "source": [
    "Pretty darn close with our Yahoo trade volume data, huh? Fantastic!"
   ]
  },
  {
   "cell_type": "code",
   "execution_count": null,
   "metadata": {
    "collapsed": true
   },
   "outputs": [],
   "source": []
  },
  {
   "cell_type": "markdown",
   "metadata": {},
   "source": [
    "Packaging up our previous code for more streamlined approach:"
   ]
  },
  {
   "cell_type": "code",
   "execution_count": 32,
   "metadata": {
    "collapsed": false
   },
   "outputs": [],
   "source": [
    "def get_count_df( df ):\n",
    "    lead_digit_counts = { str(n): 0 for n in range(1,10)}\n",
    "    \n",
    "    for t in df.columns:\n",
    "        prices = df[t].dropna()\n",
    "        d = count_lead_digits( prices )\n",
    "        for digit, count in d.items():\n",
    "            lead_digit_counts[digit] += count\n",
    "    \n",
    "    df_counts = pd.DataFrame.from_dict(lead_digit_counts, orient='index')\n",
    "    df_counts.columns = ['frequency']\n",
    "    df_counts.sort_index(inplace=True)\n",
    "    return df_counts"
   ]
  },
  {
   "cell_type": "code",
   "execution_count": 42,
   "metadata": {
    "collapsed": false
   },
   "outputs": [
    {
     "data": {
      "text/plain": [
       "<matplotlib.axes._subplots.AxesSubplot at 0x115d0c250>"
      ]
     },
     "execution_count": 42,
     "metadata": {},
     "output_type": "execute_result"
    },
    {
     "data": {
      "image/png": "[encoded data removed]",
      "text/plain": [
       "<matplotlib.figure.Figure at 0x115b58ad0>"
      ]
     },
     "metadata": {},
     "output_type": "display_data"
    }
   ],
   "source": [
    "df2 = ticker_data['Close']\n",
    "df2_counts = get_count_df( df2 )\n",
    "df2_counts.plot(kind='bar', figsize=(8,5))"
   ]
  },
  {
   "cell_type": "code",
   "execution_count": 44,
   "metadata": {
    "collapsed": false
   },
   "outputs": [],
   "source": [
    "total_count = df2_counts['frequency'].sum()\n",
    "df2_counts['percentage'] = df2_counts['frequency'] / total_count"
   ]
  },
  {
   "cell_type": "code",
   "execution_count": 45,
   "metadata": {
    "collapsed": false
   },
   "outputs": [
    {
     "data": {
      "text/html": [
       "<div>\n",
       "<table border=\"1\" class=\"dataframe\">\n",
       "  <thead>\n",
       "    <tr style=\"text-align: right;\">\n",
       "      <th></th>\n",
       "      <th>frequency</th>\n",
       "      <th>percentage</th>\n",
       "    </tr>\n",
       "  </thead>\n",
       "  <tbody>\n",
       "    <tr>\n",
       "      <th>1</th>\n",
       "      <td>509925</td>\n",
       "      <td>0.158149</td>\n",
       "    </tr>\n",
       "    <tr>\n",
       "      <th>2</th>\n",
       "      <td>603659</td>\n",
       "      <td>0.187220</td>\n",
       "    </tr>\n",
       "    <tr>\n",
       "      <th>3</th>\n",
       "      <td>610367</td>\n",
       "      <td>0.189301</td>\n",
       "    </tr>\n",
       "    <tr>\n",
       "      <th>4</th>\n",
       "      <td>501494</td>\n",
       "      <td>0.155535</td>\n",
       "    </tr>\n",
       "    <tr>\n",
       "      <th>5</th>\n",
       "      <td>363726</td>\n",
       "      <td>0.112807</td>\n",
       "    </tr>\n",
       "    <tr>\n",
       "      <th>6</th>\n",
       "      <td>250985</td>\n",
       "      <td>0.077841</td>\n",
       "    </tr>\n",
       "    <tr>\n",
       "      <th>7</th>\n",
       "      <td>175331</td>\n",
       "      <td>0.054378</td>\n",
       "    </tr>\n",
       "    <tr>\n",
       "      <th>8</th>\n",
       "      <td>126301</td>\n",
       "      <td>0.039171</td>\n",
       "    </tr>\n",
       "    <tr>\n",
       "      <th>9</th>\n",
       "      <td>82538</td>\n",
       "      <td>0.025599</td>\n",
       "    </tr>\n",
       "  </tbody>\n",
       "</table>\n",
       "</div>"
      ],
      "text/plain": [
       "   frequency  percentage\n",
       "1     509925    0.158149\n",
       "2     603659    0.187220\n",
       "3     610367    0.189301\n",
       "4     501494    0.155535\n",
       "5     363726    0.112807\n",
       "6     250985    0.077841\n",
       "7     175331    0.054378\n",
       "8     126301    0.039171\n",
       "9      82538    0.025599"
      ]
     },
     "execution_count": 45,
     "metadata": {},
     "output_type": "execute_result"
    }
   ],
   "source": [
    "df2_counts"
   ]
  },
  {
   "cell_type": "markdown",
   "metadata": {},
   "source": [
    "Hmm, looks like distribution for stock prices don't quite hold for stock prices. This is worth looking into."
   ]
  },
  {
   "cell_type": "code",
   "execution_count": null,
   "metadata": {
    "collapsed": true
   },
   "outputs": [],
   "source": []
  },
  {
   "cell_type": "markdown",
   "metadata": {},
   "source": [
    "Let's investigate another data source. This time, we'll check out a <a href=\"http://www.ebyte.it/library/educards/constants/ConstantsOfPhysicsAndMath.html\">list of Physics and Match Constants</a>."
   ]
  },
  {
   "cell_type": "code",
   "execution_count": 75,
   "metadata": {
    "collapsed": true
   },
   "outputs": [],
   "source": [
    "def get_constants_data( site ):\n",
    "    hdr = {'User-Agent': 'Mozilla/5.0'}\n",
    "    req = urllib2.Request(site, headers=hdr)\n",
    "    page = urllib2.urlopen(req)\n",
    "    soup = BeautifulSoup(page, 'lxml')\n",
    "    \n",
    "    constants = []\n",
    "    for row in soup.findAll('td', {'class': 'boxa'}):\n",
    "        txt = row.text.strip()\n",
    "        for c in ['+','-']:\n",
    "            txt = txt.replace(c, \"\").strip()\n",
    "\n",
    "        constants.append(txt)\n",
    "    \n",
    "    return constants"
   ]
  },
  {
   "cell_type": "code",
   "execution_count": 76,
   "metadata": {
    "collapsed": false
   },
   "outputs": [],
   "source": [
    "constants = get_constants_data( \"http://www.ebyte.it/library/educards/constants/ConstantsOfPhysicsAndMath.html\" )"
   ]
  },
  {
   "cell_type": "code",
   "execution_count": 86,
   "metadata": {
    "collapsed": false
   },
   "outputs": [],
   "source": [
    "constants_digits = [ x[0] for x in constants if x[0].isdigit() ]\n",
    "constants_count = {}\n",
    "for digit in constants_digits:\n",
    "    if digit != '0':\n",
    "        if digit not in constants_count:\n",
    "            constants_count[digit] = 0\n",
    "        constants_count[digit] += 1"
   ]
  },
  {
   "cell_type": "code",
   "execution_count": 87,
   "metadata": {
    "collapsed": false
   },
   "outputs": [
    {
     "data": {
      "text/plain": [
       "{u'1': 105,\n",
       " u'2': 61,\n",
       " u'3': 40,\n",
       " u'4': 36,\n",
       " u'5': 24,\n",
       " u'6': 19,\n",
       " u'7': 9,\n",
       " u'8': 16,\n",
       " u'9': 21}"
      ]
     },
     "execution_count": 87,
     "metadata": {},
     "output_type": "execute_result"
    }
   ],
   "source": [
    "constants_count"
   ]
  },
  {
   "cell_type": "code",
   "execution_count": 88,
   "metadata": {
    "collapsed": true
   },
   "outputs": [],
   "source": [
    "df3_counts = pd.DataFrame.from_dict(constants_count, orient='index')\n",
    "df3_counts.columns = ['frequency']\n",
    "df3_counts.sort_index(inplace=True)"
   ]
  },
  {
   "cell_type": "code",
   "execution_count": 90,
   "metadata": {
    "collapsed": false
   },
   "outputs": [
    {
     "data": {
      "text/html": [
       "<div>\n",
       "<table border=\"1\" class=\"dataframe\">\n",
       "  <thead>\n",
       "    <tr style=\"text-align: right;\">\n",
       "      <th></th>\n",
       "      <th>frequency</th>\n",
       "    </tr>\n",
       "  </thead>\n",
       "  <tbody>\n",
       "    <tr>\n",
       "      <th>1</th>\n",
       "      <td>105</td>\n",
       "    </tr>\n",
       "    <tr>\n",
       "      <th>2</th>\n",
       "      <td>61</td>\n",
       "    </tr>\n",
       "    <tr>\n",
       "      <th>3</th>\n",
       "      <td>40</td>\n",
       "    </tr>\n",
       "    <tr>\n",
       "      <th>4</th>\n",
       "      <td>36</td>\n",
       "    </tr>\n",
       "    <tr>\n",
       "      <th>5</th>\n",
       "      <td>24</td>\n",
       "    </tr>\n",
       "    <tr>\n",
       "      <th>6</th>\n",
       "      <td>19</td>\n",
       "    </tr>\n",
       "    <tr>\n",
       "      <th>7</th>\n",
       "      <td>9</td>\n",
       "    </tr>\n",
       "    <tr>\n",
       "      <th>8</th>\n",
       "      <td>16</td>\n",
       "    </tr>\n",
       "    <tr>\n",
       "      <th>9</th>\n",
       "      <td>21</td>\n",
       "    </tr>\n",
       "  </tbody>\n",
       "</table>\n",
       "</div>"
      ],
      "text/plain": [
       "   frequency\n",
       "1        105\n",
       "2         61\n",
       "3         40\n",
       "4         36\n",
       "5         24\n",
       "6         19\n",
       "7          9\n",
       "8         16\n",
       "9         21"
      ]
     },
     "execution_count": 90,
     "metadata": {},
     "output_type": "execute_result"
    }
   ],
   "source": [
    "df3_counts"
   ]
  },
  {
   "cell_type": "code",
   "execution_count": 91,
   "metadata": {
    "collapsed": false
   },
   "outputs": [
    {
     "data": {
      "text/plain": [
       "<matplotlib.axes._subplots.AxesSubplot at 0x115f60050>"
      ]
     },
     "execution_count": 91,
     "metadata": {},
     "output_type": "execute_result"
    },
    {
     "data": {
      "image/png": "[encoded data removed]",
      "text/plain": [
       "<matplotlib.figure.Figure at 0x1172fc710>"
      ]
     },
     "metadata": {},
     "output_type": "display_data"
    }
   ],
   "source": [
    "df3_counts.plot(kind='bar', figsize=(8,5))"
   ]
  },
  {
   "cell_type": "code",
   "execution_count": null,
   "metadata": {
    "collapsed": true
   },
   "outputs": [],
   "source": []
  }
 ],
 "metadata": {
  "kernelspec": {
   "display_name": "Python 2",
   "language": "python",
   "name": "python2"
  },
  "language_info": {
   "codemirror_mode": {
    "name": "ipython",
    "version": 2
   },
   "file_extension": ".py",
   "mimetype": "text/x-python",
   "name": "python",
   "nbconvert_exporter": "python",
   "pygments_lexer": "ipython2",
   "version": "2.7.8"
  }
 },
 "nbformat": 4,
 "nbformat_minor": 0
}
